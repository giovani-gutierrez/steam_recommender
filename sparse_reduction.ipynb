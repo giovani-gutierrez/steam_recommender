{
 "cells": [
  {
   "cell_type": "code",
   "execution_count": 1,
   "id": "7d8eacaa",
   "metadata": {
    "_cell_guid": "b1076dfc-b9ad-4769-8c92-a6c4dae69d19",
    "_uuid": "8f2839f25d086af736a60e9eeb907d3b93b6e0e5",
    "execution": {
     "iopub.execute_input": "2023-12-03T00:56:49.151822Z",
     "iopub.status.busy": "2023-12-03T00:56:49.151037Z",
     "iopub.status.idle": "2023-12-03T00:56:49.640842Z",
     "shell.execute_reply": "2023-12-03T00:56:49.639511Z"
    },
    "papermill": {
     "duration": 0.500379,
     "end_time": "2023-12-03T00:56:49.644198",
     "exception": false,
     "start_time": "2023-12-03T00:56:49.143819",
     "status": "completed"
    },
    "tags": []
   },
   "outputs": [],
   "source": [
    "import pandas as pd\n",
    "import gzip\n",
    "import datetime"
   ]
  },
  {
   "cell_type": "code",
   "execution_count": 2,
   "id": "68855c4d",
   "metadata": {
    "execution": {
     "iopub.execute_input": "2023-12-03T00:56:49.657901Z",
     "iopub.status.busy": "2023-12-03T00:56:49.657177Z",
     "iopub.status.idle": "2023-12-03T00:57:48.361332Z",
     "shell.execute_reply": "2023-12-03T00:57:48.359967Z"
    },
    "papermill": {
     "duration": 58.713583,
     "end_time": "2023-12-03T00:57:48.364604",
     "exception": false,
     "start_time": "2023-12-03T00:56:49.651021",
     "status": "completed"
    },
    "tags": []
   },
   "outputs": [],
   "source": [
    "interactions = pd.read_csv('/kaggle/input/game-recommendations-on-steam/recommendations.csv')"
   ]
  },
  {
   "cell_type": "code",
   "execution_count": 3,
   "id": "9d79be81",
   "metadata": {
    "execution": {
     "iopub.execute_input": "2023-12-03T00:57:48.376237Z",
     "iopub.status.busy": "2023-12-03T00:57:48.375753Z",
     "iopub.status.idle": "2023-12-03T00:57:48.406142Z",
     "shell.execute_reply": "2023-12-03T00:57:48.404980Z"
    },
    "papermill": {
     "duration": 0.039656,
     "end_time": "2023-12-03T00:57:48.409019",
     "exception": false,
     "start_time": "2023-12-03T00:57:48.369363",
     "status": "completed"
    },
    "tags": []
   },
   "outputs": [
    {
     "data": {
      "text/html": [
       "<div>\n",
       "<style scoped>\n",
       "    .dataframe tbody tr th:only-of-type {\n",
       "        vertical-align: middle;\n",
       "    }\n",
       "\n",
       "    .dataframe tbody tr th {\n",
       "        vertical-align: top;\n",
       "    }\n",
       "\n",
       "    .dataframe thead th {\n",
       "        text-align: right;\n",
       "    }\n",
       "</style>\n",
       "<table border=\"1\" class=\"dataframe\">\n",
       "  <thead>\n",
       "    <tr style=\"text-align: right;\">\n",
       "      <th></th>\n",
       "      <th>app_id</th>\n",
       "      <th>helpful</th>\n",
       "      <th>funny</th>\n",
       "      <th>date</th>\n",
       "      <th>is_recommended</th>\n",
       "      <th>hours</th>\n",
       "      <th>user_id</th>\n",
       "      <th>review_id</th>\n",
       "    </tr>\n",
       "  </thead>\n",
       "  <tbody>\n",
       "    <tr>\n",
       "      <th>0</th>\n",
       "      <td>975370</td>\n",
       "      <td>0</td>\n",
       "      <td>0</td>\n",
       "      <td>2022-12-12</td>\n",
       "      <td>True</td>\n",
       "      <td>36.3</td>\n",
       "      <td>49625</td>\n",
       "      <td>0</td>\n",
       "    </tr>\n",
       "    <tr>\n",
       "      <th>1</th>\n",
       "      <td>304390</td>\n",
       "      <td>4</td>\n",
       "      <td>0</td>\n",
       "      <td>2017-02-17</td>\n",
       "      <td>False</td>\n",
       "      <td>11.5</td>\n",
       "      <td>2482</td>\n",
       "      <td>1</td>\n",
       "    </tr>\n",
       "    <tr>\n",
       "      <th>2</th>\n",
       "      <td>1085660</td>\n",
       "      <td>2</td>\n",
       "      <td>0</td>\n",
       "      <td>2019-11-17</td>\n",
       "      <td>True</td>\n",
       "      <td>336.5</td>\n",
       "      <td>243409</td>\n",
       "      <td>2</td>\n",
       "    </tr>\n",
       "    <tr>\n",
       "      <th>3</th>\n",
       "      <td>703080</td>\n",
       "      <td>0</td>\n",
       "      <td>0</td>\n",
       "      <td>2022-09-23</td>\n",
       "      <td>True</td>\n",
       "      <td>27.4</td>\n",
       "      <td>248701</td>\n",
       "      <td>3</td>\n",
       "    </tr>\n",
       "    <tr>\n",
       "      <th>4</th>\n",
       "      <td>526870</td>\n",
       "      <td>0</td>\n",
       "      <td>0</td>\n",
       "      <td>2021-01-10</td>\n",
       "      <td>True</td>\n",
       "      <td>7.9</td>\n",
       "      <td>22902</td>\n",
       "      <td>4</td>\n",
       "    </tr>\n",
       "  </tbody>\n",
       "</table>\n",
       "</div>"
      ],
      "text/plain": [
       "    app_id  helpful  funny        date  is_recommended  hours  user_id  \\\n",
       "0   975370        0      0  2022-12-12            True   36.3    49625   \n",
       "1   304390        4      0  2017-02-17           False   11.5     2482   \n",
       "2  1085660        2      0  2019-11-17            True  336.5   243409   \n",
       "3   703080        0      0  2022-09-23            True   27.4   248701   \n",
       "4   526870        0      0  2021-01-10            True    7.9    22902   \n",
       "\n",
       "   review_id  \n",
       "0          0  \n",
       "1          1  \n",
       "2          2  \n",
       "3          3  \n",
       "4          4  "
      ]
     },
     "execution_count": 3,
     "metadata": {},
     "output_type": "execute_result"
    }
   ],
   "source": [
    "interactions.head()"
   ]
  },
  {
   "cell_type": "code",
   "execution_count": 4,
   "id": "6c293f4d",
   "metadata": {
    "execution": {
     "iopub.execute_input": "2023-12-03T00:57:48.422068Z",
     "iopub.status.busy": "2023-12-03T00:57:48.420957Z",
     "iopub.status.idle": "2023-12-03T00:57:50.656718Z",
     "shell.execute_reply": "2023-12-03T00:57:50.655217Z"
    },
    "papermill": {
     "duration": 2.24627,
     "end_time": "2023-12-03T00:57:50.660572",
     "exception": false,
     "start_time": "2023-12-03T00:57:48.414302",
     "status": "completed"
    },
    "tags": []
   },
   "outputs": [],
   "source": [
    "df1 = interactions[['user_id', 'app_id', 'is_recommended', 'hours', 'date']]\n",
    "df2 = df1.rename(columns = {'user_id': 'userID', 'app_id': 'gameID', 'is_recommended': 'recommended',\n",
    "                                                'hours': 'hours_played', 'date': 'review_date'})\n",
    "# df2[['userID', 'gameID']] = df2[['userID', 'gameID']].astype('string')\n",
    "# df2['review_date'] = pd.to_datetime(df2['review_date'], format = '%Y-%m-%d')"
   ]
  },
  {
   "cell_type": "code",
   "execution_count": 5,
   "id": "eb2fcb6a",
   "metadata": {
    "execution": {
     "iopub.execute_input": "2023-12-03T00:57:50.677080Z",
     "iopub.status.busy": "2023-12-03T00:57:50.676591Z",
     "iopub.status.idle": "2023-12-03T00:58:00.860931Z",
     "shell.execute_reply": "2023-12-03T00:58:00.859579Z"
    },
    "papermill": {
     "duration": 10.196179,
     "end_time": "2023-12-03T00:58:00.864026",
     "exception": false,
     "start_time": "2023-12-03T00:57:50.667847",
     "status": "completed"
    },
    "tags": []
   },
   "outputs": [],
   "source": [
    "df3 = df2.groupby('recommended').sample(frac = 0.08, random_state = 123)"
   ]
  },
  {
   "cell_type": "code",
   "execution_count": 6,
   "id": "2d53db33",
   "metadata": {
    "execution": {
     "iopub.execute_input": "2023-12-03T00:58:00.875729Z",
     "iopub.status.busy": "2023-12-03T00:58:00.875023Z",
     "iopub.status.idle": "2023-12-03T00:58:00.899218Z",
     "shell.execute_reply": "2023-12-03T00:58:00.897695Z"
    },
    "papermill": {
     "duration": 0.033849,
     "end_time": "2023-12-03T00:58:00.902724",
     "exception": false,
     "start_time": "2023-12-03T00:58:00.868875",
     "status": "completed"
    },
    "tags": []
   },
   "outputs": [
    {
     "name": "stdout",
     "output_type": "stream",
     "text": [
      "<class 'pandas.core.frame.DataFrame'>\n",
      "RangeIndex: 3068328 entries, 0 to 3068327\n",
      "Data columns (total 5 columns):\n",
      " #   Column        Dtype  \n",
      "---  ------        -----  \n",
      " 0   userID        int64  \n",
      " 1   gameID        int64  \n",
      " 2   recommended   bool   \n",
      " 3   hours_played  float64\n",
      " 4   review_date   object \n",
      "dtypes: bool(1), float64(1), int64(2), object(1)\n",
      "memory usage: 96.6+ MB\n"
     ]
    }
   ],
   "source": [
    "df3.reset_index(drop = True, inplace = True)\n",
    "df3.info()"
   ]
  },
  {
   "cell_type": "code",
   "execution_count": 7,
   "id": "6b1d096d",
   "metadata": {
    "execution": {
     "iopub.execute_input": "2023-12-03T00:58:00.915717Z",
     "iopub.status.busy": "2023-12-03T00:58:00.914149Z",
     "iopub.status.idle": "2023-12-03T00:58:00.922328Z",
     "shell.execute_reply": "2023-12-03T00:58:00.921309Z"
    },
    "papermill": {
     "duration": 0.017201,
     "end_time": "2023-12-03T00:58:00.924890",
     "exception": false,
     "start_time": "2023-12-03T00:58:00.907689",
     "status": "completed"
    },
    "tags": []
   },
   "outputs": [],
   "source": [
    "def reduce_sparsity(df, min_items_per_user, min_user_per_item, user_col, item_col):\n",
    "    good_users = df[user_col].value_counts()[df[user_col].value_counts() > min_items_per_user].index\n",
    "    df = df[df[user_col].isin(good_users)]\n",
    "\n",
    "    good_items = df[item_col].value_counts()[df[item_col].value_counts() > min_user_per_item].index\n",
    "    df = df[df[item_col].isin(good_items)].reset_index(drop=1)\n",
    "    return df"
   ]
  },
  {
   "cell_type": "code",
   "execution_count": 8,
   "id": "79dd4137",
   "metadata": {
    "execution": {
     "iopub.execute_input": "2023-12-03T00:58:00.937770Z",
     "iopub.status.busy": "2023-12-03T00:58:00.936539Z",
     "iopub.status.idle": "2023-12-03T00:58:02.605792Z",
     "shell.execute_reply": "2023-12-03T00:58:02.604294Z"
    },
    "papermill": {
     "duration": 1.679058,
     "end_time": "2023-12-03T00:58:02.608802",
     "exception": false,
     "start_time": "2023-12-03T00:58:00.929744",
     "status": "completed"
    },
    "tags": []
   },
   "outputs": [],
   "source": [
    "df4 = reduce_sparsity(df3, 5, 5, 'userID', 'gameID')"
   ]
  },
  {
   "cell_type": "code",
   "execution_count": 9,
   "id": "68e6293e",
   "metadata": {
    "execution": {
     "iopub.execute_input": "2023-12-03T00:58:02.621126Z",
     "iopub.status.busy": "2023-12-03T00:58:02.620644Z",
     "iopub.status.idle": "2023-12-03T00:58:02.673453Z",
     "shell.execute_reply": "2023-12-03T00:58:02.672538Z"
    },
    "papermill": {
     "duration": 0.06273,
     "end_time": "2023-12-03T00:58:02.676617",
     "exception": false,
     "start_time": "2023-12-03T00:58:02.613887",
     "status": "completed"
    },
    "tags": []
   },
   "outputs": [
    {
     "name": "stdout",
     "output_type": "stream",
     "text": [
      "<class 'pandas.core.frame.DataFrame'>\n",
      "RangeIndex: 185503 entries, 0 to 185502\n",
      "Data columns (total 5 columns):\n",
      " #   Column        Non-Null Count   Dtype  \n",
      "---  ------        --------------   -----  \n",
      " 0   userID        185503 non-null  int64  \n",
      " 1   gameID        185503 non-null  int64  \n",
      " 2   recommended   185503 non-null  bool   \n",
      " 3   hours_played  185503 non-null  float64\n",
      " 4   review_date   185503 non-null  object \n",
      "dtypes: bool(1), float64(1), int64(2), object(1)\n",
      "memory usage: 5.8+ MB\n"
     ]
    }
   ],
   "source": [
    "df4.info()"
   ]
  },
  {
   "cell_type": "code",
   "execution_count": 10,
   "id": "71e6a18f",
   "metadata": {
    "execution": {
     "iopub.execute_input": "2023-12-03T00:58:02.688741Z",
     "iopub.status.busy": "2023-12-03T00:58:02.688292Z",
     "iopub.status.idle": "2023-12-03T00:58:05.127455Z",
     "shell.execute_reply": "2023-12-03T00:58:05.126130Z"
    },
    "papermill": {
     "duration": 2.448773,
     "end_time": "2023-12-03T00:58:05.130540",
     "exception": false,
     "start_time": "2023-12-03T00:58:02.681767",
     "status": "completed"
    },
    "tags": []
   },
   "outputs": [],
   "source": [
    "df4.to_json('dataset.json.gz', orient = 'records', compression = 'gzip')"
   ]
  }
 ],
 "metadata": {
  "kaggle": {
   "accelerator": "none",
   "dataSources": [
    {
     "datasetId": 2871694,
     "sourceId": 6957743,
     "sourceType": "datasetVersion"
    }
   ],
   "dockerImageVersionId": 30587,
   "isGpuEnabled": false,
   "isInternetEnabled": false,
   "language": "python",
   "sourceType": "notebook"
  },
  "kernelspec": {
   "display_name": "Python 3",
   "language": "python",
   "name": "python3"
  },
  "language_info": {
   "codemirror_mode": {
    "name": "ipython",
    "version": 3
   },
   "file_extension": ".py",
   "mimetype": "text/x-python",
   "name": "python",
   "nbconvert_exporter": "python",
   "pygments_lexer": "ipython3",
   "version": "3.10.12"
  },
  "papermill": {
   "default_parameters": {},
   "duration": 81.072594,
   "end_time": "2023-12-03T00:58:06.463027",
   "environment_variables": {},
   "exception": null,
   "input_path": "__notebook__.ipynb",
   "output_path": "__notebook__.ipynb",
   "parameters": {},
   "start_time": "2023-12-03T00:56:45.390433",
   "version": "2.4.0"
  }
 },
 "nbformat": 4,
 "nbformat_minor": 5
}
