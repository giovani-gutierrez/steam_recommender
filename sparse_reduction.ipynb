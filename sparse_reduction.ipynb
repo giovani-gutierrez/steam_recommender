{
 "cells": [
  {
   "cell_type": "code",
   "execution_count": 1,
   "id": "2fd37d7c",
   "metadata": {
    "_cell_guid": "b1076dfc-b9ad-4769-8c92-a6c4dae69d19",
    "_uuid": "8f2839f25d086af736a60e9eeb907d3b93b6e0e5",
    "execution": {
     "iopub.execute_input": "2023-12-03T02:01:19.705367Z",
     "iopub.status.busy": "2023-12-03T02:01:19.705040Z",
     "iopub.status.idle": "2023-12-03T02:01:20.498822Z",
     "shell.execute_reply": "2023-12-03T02:01:20.497602Z"
    },
    "papermill": {
     "duration": 0.801332,
     "end_time": "2023-12-03T02:01:20.501046",
     "exception": false,
     "start_time": "2023-12-03T02:01:19.699714",
     "status": "completed"
    },
    "tags": []
   },
   "outputs": [],
   "source": [
    "import pandas as pd\n",
    "import gzip\n",
    "import datetime"
   ]
  },
  {
   "cell_type": "code",
   "execution_count": 2,
   "id": "dfa90750",
   "metadata": {
    "execution": {
     "iopub.execute_input": "2023-12-03T02:01:20.510925Z",
     "iopub.status.busy": "2023-12-03T02:01:20.510461Z",
     "iopub.status.idle": "2023-12-03T02:02:06.178687Z",
     "shell.execute_reply": "2023-12-03T02:02:06.177752Z"
    },
    "papermill": {
     "duration": 45.674834,
     "end_time": "2023-12-03T02:02:06.181026",
     "exception": false,
     "start_time": "2023-12-03T02:01:20.506192",
     "status": "completed"
    },
    "tags": []
   },
   "outputs": [],
   "source": [
    "interactions = pd.read_csv('/kaggle/input/game-recommendations-on-steam/recommendations.csv')"
   ]
  },
  {
   "cell_type": "code",
   "execution_count": 3,
   "id": "5ce90287",
   "metadata": {
    "execution": {
     "iopub.execute_input": "2023-12-03T02:02:06.188848Z",
     "iopub.status.busy": "2023-12-03T02:02:06.188503Z",
     "iopub.status.idle": "2023-12-03T02:02:06.212582Z",
     "shell.execute_reply": "2023-12-03T02:02:06.211545Z"
    },
    "papermill": {
     "duration": 0.031038,
     "end_time": "2023-12-03T02:02:06.215180",
     "exception": false,
     "start_time": "2023-12-03T02:02:06.184142",
     "status": "completed"
    },
    "tags": []
   },
   "outputs": [
    {
     "data": {
      "text/html": [
       "<div>\n",
       "<style scoped>\n",
       "    .dataframe tbody tr th:only-of-type {\n",
       "        vertical-align: middle;\n",
       "    }\n",
       "\n",
       "    .dataframe tbody tr th {\n",
       "        vertical-align: top;\n",
       "    }\n",
       "\n",
       "    .dataframe thead th {\n",
       "        text-align: right;\n",
       "    }\n",
       "</style>\n",
       "<table border=\"1\" class=\"dataframe\">\n",
       "  <thead>\n",
       "    <tr style=\"text-align: right;\">\n",
       "      <th></th>\n",
       "      <th>app_id</th>\n",
       "      <th>helpful</th>\n",
       "      <th>funny</th>\n",
       "      <th>date</th>\n",
       "      <th>is_recommended</th>\n",
       "      <th>hours</th>\n",
       "      <th>user_id</th>\n",
       "      <th>review_id</th>\n",
       "    </tr>\n",
       "  </thead>\n",
       "  <tbody>\n",
       "    <tr>\n",
       "      <th>0</th>\n",
       "      <td>975370</td>\n",
       "      <td>0</td>\n",
       "      <td>0</td>\n",
       "      <td>2022-12-12</td>\n",
       "      <td>True</td>\n",
       "      <td>36.3</td>\n",
       "      <td>49625</td>\n",
       "      <td>0</td>\n",
       "    </tr>\n",
       "    <tr>\n",
       "      <th>1</th>\n",
       "      <td>304390</td>\n",
       "      <td>4</td>\n",
       "      <td>0</td>\n",
       "      <td>2017-02-17</td>\n",
       "      <td>False</td>\n",
       "      <td>11.5</td>\n",
       "      <td>2482</td>\n",
       "      <td>1</td>\n",
       "    </tr>\n",
       "    <tr>\n",
       "      <th>2</th>\n",
       "      <td>1085660</td>\n",
       "      <td>2</td>\n",
       "      <td>0</td>\n",
       "      <td>2019-11-17</td>\n",
       "      <td>True</td>\n",
       "      <td>336.5</td>\n",
       "      <td>243409</td>\n",
       "      <td>2</td>\n",
       "    </tr>\n",
       "    <tr>\n",
       "      <th>3</th>\n",
       "      <td>703080</td>\n",
       "      <td>0</td>\n",
       "      <td>0</td>\n",
       "      <td>2022-09-23</td>\n",
       "      <td>True</td>\n",
       "      <td>27.4</td>\n",
       "      <td>248701</td>\n",
       "      <td>3</td>\n",
       "    </tr>\n",
       "    <tr>\n",
       "      <th>4</th>\n",
       "      <td>526870</td>\n",
       "      <td>0</td>\n",
       "      <td>0</td>\n",
       "      <td>2021-01-10</td>\n",
       "      <td>True</td>\n",
       "      <td>7.9</td>\n",
       "      <td>22902</td>\n",
       "      <td>4</td>\n",
       "    </tr>\n",
       "  </tbody>\n",
       "</table>\n",
       "</div>"
      ],
      "text/plain": [
       "    app_id  helpful  funny        date  is_recommended  hours  user_id  \\\n",
       "0   975370        0      0  2022-12-12            True   36.3    49625   \n",
       "1   304390        4      0  2017-02-17           False   11.5     2482   \n",
       "2  1085660        2      0  2019-11-17            True  336.5   243409   \n",
       "3   703080        0      0  2022-09-23            True   27.4   248701   \n",
       "4   526870        0      0  2021-01-10            True    7.9    22902   \n",
       "\n",
       "   review_id  \n",
       "0          0  \n",
       "1          1  \n",
       "2          2  \n",
       "3          3  \n",
       "4          4  "
      ]
     },
     "execution_count": 3,
     "metadata": {},
     "output_type": "execute_result"
    }
   ],
   "source": [
    "interactions.head()"
   ]
  },
  {
   "cell_type": "code",
   "execution_count": 4,
   "id": "b3190255",
   "metadata": {
    "execution": {
     "iopub.execute_input": "2023-12-03T02:02:06.223537Z",
     "iopub.status.busy": "2023-12-03T02:02:06.223187Z",
     "iopub.status.idle": "2023-12-03T02:02:34.914854Z",
     "shell.execute_reply": "2023-12-03T02:02:34.913648Z"
    },
    "papermill": {
     "duration": 28.69871,
     "end_time": "2023-12-03T02:02:34.917330",
     "exception": false,
     "start_time": "2023-12-03T02:02:06.218620",
     "status": "completed"
    },
    "tags": []
   },
   "outputs": [],
   "source": [
    "df1 = interactions[['user_id', 'app_id', 'is_recommended', 'hours', 'date']]\n",
    "df2 = df1.rename(columns = {'user_id': 'userID', 'app_id': 'gameID', 'is_recommended': 'recommended',\n",
    "                                                'hours': 'hours_played', 'date': 'review_date'})\n",
    "df2[['userID', 'gameID', 'review_date']] = df2[['userID', 'gameID', 'review_date']].astype('string')\n",
    "# df2['review_date'] = pd.to_datetime(df2['review_date'], format = '%Y-%m-%d')"
   ]
  },
  {
   "cell_type": "code",
   "execution_count": 5,
   "id": "5623bdc0",
   "metadata": {
    "execution": {
     "iopub.execute_input": "2023-12-03T02:02:34.925597Z",
     "iopub.status.busy": "2023-12-03T02:02:34.925275Z",
     "iopub.status.idle": "2023-12-03T02:02:48.680887Z",
     "shell.execute_reply": "2023-12-03T02:02:48.680039Z"
    },
    "papermill": {
     "duration": 13.762181,
     "end_time": "2023-12-03T02:02:48.682945",
     "exception": false,
     "start_time": "2023-12-03T02:02:34.920764",
     "status": "completed"
    },
    "tags": []
   },
   "outputs": [],
   "source": [
    "df3 = df2.groupby('recommended').sample(frac = 0.08, random_state = 123)"
   ]
  },
  {
   "cell_type": "code",
   "execution_count": 6,
   "id": "ba8c96dd",
   "metadata": {
    "execution": {
     "iopub.execute_input": "2023-12-03T02:02:48.690572Z",
     "iopub.status.busy": "2023-12-03T02:02:48.690302Z",
     "iopub.status.idle": "2023-12-03T02:02:48.705696Z",
     "shell.execute_reply": "2023-12-03T02:02:48.704571Z"
    },
    "papermill": {
     "duration": 0.021649,
     "end_time": "2023-12-03T02:02:48.707896",
     "exception": false,
     "start_time": "2023-12-03T02:02:48.686247",
     "status": "completed"
    },
    "tags": []
   },
   "outputs": [
    {
     "name": "stdout",
     "output_type": "stream",
     "text": [
      "<class 'pandas.core.frame.DataFrame'>\n",
      "RangeIndex: 3068328 entries, 0 to 3068327\n",
      "Data columns (total 5 columns):\n",
      " #   Column        Dtype  \n",
      "---  ------        -----  \n",
      " 0   userID        string \n",
      " 1   gameID        string \n",
      " 2   recommended   bool   \n",
      " 3   hours_played  float64\n",
      " 4   review_date   string \n",
      "dtypes: bool(1), float64(1), string(3)\n",
      "memory usage: 96.6 MB\n"
     ]
    }
   ],
   "source": [
    "df3.reset_index(drop = True, inplace = True)\n",
    "df3.info()"
   ]
  },
  {
   "cell_type": "code",
   "execution_count": 7,
   "id": "9c8ee8ae",
   "metadata": {
    "execution": {
     "iopub.execute_input": "2023-12-03T02:02:48.715724Z",
     "iopub.status.busy": "2023-12-03T02:02:48.715419Z",
     "iopub.status.idle": "2023-12-03T02:02:48.721086Z",
     "shell.execute_reply": "2023-12-03T02:02:48.720091Z"
    },
    "papermill": {
     "duration": 0.011684,
     "end_time": "2023-12-03T02:02:48.722896",
     "exception": false,
     "start_time": "2023-12-03T02:02:48.711212",
     "status": "completed"
    },
    "tags": []
   },
   "outputs": [],
   "source": [
    "def reduce_sparsity(df, min_items_per_user, min_user_per_item, user_col, item_col):\n",
    "    good_users = df[user_col].value_counts()[df[user_col].value_counts() > min_items_per_user].index\n",
    "    df = df[df[user_col].isin(good_users)]\n",
    "\n",
    "    good_items = df[item_col].value_counts()[df[item_col].value_counts() > min_user_per_item].index\n",
    "    df = df[df[item_col].isin(good_items)].reset_index(drop=1)\n",
    "    return df"
   ]
  },
  {
   "cell_type": "code",
   "execution_count": 8,
   "id": "9b44b799",
   "metadata": {
    "execution": {
     "iopub.execute_input": "2023-12-03T02:02:48.733066Z",
     "iopub.status.busy": "2023-12-03T02:02:48.731289Z",
     "iopub.status.idle": "2023-12-03T02:03:00.632150Z",
     "shell.execute_reply": "2023-12-03T02:03:00.631173Z"
    },
    "papermill": {
     "duration": 11.907877,
     "end_time": "2023-12-03T02:03:00.634576",
     "exception": false,
     "start_time": "2023-12-03T02:02:48.726699",
     "status": "completed"
    },
    "tags": []
   },
   "outputs": [],
   "source": [
    "df4 = reduce_sparsity(df3, 5, 5, 'userID', 'gameID')"
   ]
  },
  {
   "cell_type": "code",
   "execution_count": 9,
   "id": "6b6159c4",
   "metadata": {
    "execution": {
     "iopub.execute_input": "2023-12-03T02:03:00.642885Z",
     "iopub.status.busy": "2023-12-03T02:03:00.642574Z",
     "iopub.status.idle": "2023-12-03T02:03:00.765159Z",
     "shell.execute_reply": "2023-12-03T02:03:00.763769Z"
    },
    "papermill": {
     "duration": 0.129126,
     "end_time": "2023-12-03T02:03:00.767196",
     "exception": false,
     "start_time": "2023-12-03T02:03:00.638070",
     "status": "completed"
    },
    "tags": []
   },
   "outputs": [
    {
     "name": "stdout",
     "output_type": "stream",
     "text": [
      "<class 'pandas.core.frame.DataFrame'>\n",
      "RangeIndex: 185503 entries, 0 to 185502\n",
      "Data columns (total 5 columns):\n",
      " #   Column        Non-Null Count   Dtype  \n",
      "---  ------        --------------   -----  \n",
      " 0   userID        185503 non-null  string \n",
      " 1   gameID        185503 non-null  string \n",
      " 2   recommended   185503 non-null  bool   \n",
      " 3   hours_played  185503 non-null  float64\n",
      " 4   review_date   185503 non-null  string \n",
      "dtypes: bool(1), float64(1), string(3)\n",
      "memory usage: 5.8 MB\n"
     ]
    }
   ],
   "source": [
    "df4.info()"
   ]
  },
  {
   "cell_type": "code",
   "execution_count": 10,
   "id": "d6981e78",
   "metadata": {
    "execution": {
     "iopub.execute_input": "2023-12-03T02:03:00.776148Z",
     "iopub.status.busy": "2023-12-03T02:03:00.775837Z",
     "iopub.status.idle": "2023-12-03T02:03:00.786596Z",
     "shell.execute_reply": "2023-12-03T02:03:00.785610Z"
    },
    "papermill": {
     "duration": 0.017195,
     "end_time": "2023-12-03T02:03:00.788380",
     "exception": false,
     "start_time": "2023-12-03T02:03:00.771185",
     "status": "completed"
    },
    "tags": []
   },
   "outputs": [
    {
     "data": {
      "text/html": [
       "<div>\n",
       "<style scoped>\n",
       "    .dataframe tbody tr th:only-of-type {\n",
       "        vertical-align: middle;\n",
       "    }\n",
       "\n",
       "    .dataframe tbody tr th {\n",
       "        vertical-align: top;\n",
       "    }\n",
       "\n",
       "    .dataframe thead th {\n",
       "        text-align: right;\n",
       "    }\n",
       "</style>\n",
       "<table border=\"1\" class=\"dataframe\">\n",
       "  <thead>\n",
       "    <tr style=\"text-align: right;\">\n",
       "      <th></th>\n",
       "      <th>userID</th>\n",
       "      <th>gameID</th>\n",
       "      <th>recommended</th>\n",
       "      <th>hours_played</th>\n",
       "      <th>review_date</th>\n",
       "    </tr>\n",
       "  </thead>\n",
       "  <tbody>\n",
       "    <tr>\n",
       "      <th>0</th>\n",
       "      <td>1393010</td>\n",
       "      <td>1238840</td>\n",
       "      <td>False</td>\n",
       "      <td>301.7</td>\n",
       "      <td>2021-10-15</td>\n",
       "    </tr>\n",
       "    <tr>\n",
       "      <th>1</th>\n",
       "      <td>11356686</td>\n",
       "      <td>485440</td>\n",
       "      <td>False</td>\n",
       "      <td>2.4</td>\n",
       "      <td>2018-11-19</td>\n",
       "    </tr>\n",
       "    <tr>\n",
       "      <th>2</th>\n",
       "      <td>7960921</td>\n",
       "      <td>326180</td>\n",
       "      <td>False</td>\n",
       "      <td>6.2</td>\n",
       "      <td>2020-06-24</td>\n",
       "    </tr>\n",
       "    <tr>\n",
       "      <th>3</th>\n",
       "      <td>11879917</td>\n",
       "      <td>298600</td>\n",
       "      <td>False</td>\n",
       "      <td>4.2</td>\n",
       "      <td>2020-07-11</td>\n",
       "    </tr>\n",
       "    <tr>\n",
       "      <th>4</th>\n",
       "      <td>10867748</td>\n",
       "      <td>251150</td>\n",
       "      <td>False</td>\n",
       "      <td>35.1</td>\n",
       "      <td>2022-12-30</td>\n",
       "    </tr>\n",
       "  </tbody>\n",
       "</table>\n",
       "</div>"
      ],
      "text/plain": [
       "     userID   gameID  recommended  hours_played review_date\n",
       "0   1393010  1238840        False         301.7  2021-10-15\n",
       "1  11356686   485440        False           2.4  2018-11-19\n",
       "2   7960921   326180        False           6.2  2020-06-24\n",
       "3  11879917   298600        False           4.2  2020-07-11\n",
       "4  10867748   251150        False          35.1  2022-12-30"
      ]
     },
     "execution_count": 10,
     "metadata": {},
     "output_type": "execute_result"
    }
   ],
   "source": [
    "df4.head()"
   ]
  },
  {
   "cell_type": "code",
   "execution_count": 11,
   "id": "e69f58b9",
   "metadata": {
    "execution": {
     "iopub.execute_input": "2023-12-03T02:03:00.796944Z",
     "iopub.status.busy": "2023-12-03T02:03:00.796587Z",
     "iopub.status.idle": "2023-12-03T02:03:02.576788Z",
     "shell.execute_reply": "2023-12-03T02:03:02.575522Z"
    },
    "papermill": {
     "duration": 1.787313,
     "end_time": "2023-12-03T02:03:02.579225",
     "exception": false,
     "start_time": "2023-12-03T02:03:00.791912",
     "status": "completed"
    },
    "tags": []
   },
   "outputs": [],
   "source": [
    "df4.to_json('dataset.json.gz', orient = 'records', compression = 'gzip')"
   ]
  }
 ],
 "metadata": {
  "kaggle": {
   "accelerator": "none",
   "dataSources": [
    {
     "datasetId": 2871694,
     "sourceId": 6957743,
     "sourceType": "datasetVersion"
    }
   ],
   "dockerImageVersionId": 30587,
   "isGpuEnabled": false,
   "isInternetEnabled": false,
   "language": "python",
   "sourceType": "notebook"
  },
  "kernelspec": {
   "display_name": "Python 3",
   "language": "python",
   "name": "python3"
  },
  "language_info": {
   "codemirror_mode": {
    "name": "ipython",
    "version": 3
   },
   "file_extension": ".py",
   "mimetype": "text/x-python",
   "name": "python",
   "nbconvert_exporter": "python",
   "pygments_lexer": "ipython3",
   "version": "3.10.12"
  },
  "papermill": {
   "default_parameters": {},
   "duration": 108.63997,
   "end_time": "2023-12-03T02:03:04.508303",
   "environment_variables": {},
   "exception": null,
   "input_path": "__notebook__.ipynb",
   "output_path": "__notebook__.ipynb",
   "parameters": {},
   "start_time": "2023-12-03T02:01:15.868333",
   "version": "2.4.0"
  }
 },
 "nbformat": 4,
 "nbformat_minor": 5
}
