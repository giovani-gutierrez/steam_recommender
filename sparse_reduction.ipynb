{
 "cells": [
  {
   "cell_type": "code",
   "execution_count": 1,
   "id": "1f8d29b6",
   "metadata": {
    "_cell_guid": "b1076dfc-b9ad-4769-8c92-a6c4dae69d19",
    "_uuid": "8f2839f25d086af736a60e9eeb907d3b93b6e0e5",
    "execution": {
     "iopub.execute_input": "2023-12-03T05:14:54.181905Z",
     "iopub.status.busy": "2023-12-03T05:14:54.180937Z",
     "iopub.status.idle": "2023-12-03T05:14:54.854395Z",
     "shell.execute_reply": "2023-12-03T05:14:54.853374Z"
    },
    "papermill": {
     "duration": 0.682862,
     "end_time": "2023-12-03T05:14:54.856920",
     "exception": false,
     "start_time": "2023-12-03T05:14:54.174058",
     "status": "completed"
    },
    "tags": []
   },
   "outputs": [],
   "source": [
    "import pandas as pd\n",
    "import gzip\n",
    "import datetime"
   ]
  },
  {
   "cell_type": "code",
   "execution_count": 2,
   "id": "634d40d5",
   "metadata": {
    "execution": {
     "iopub.execute_input": "2023-12-03T05:14:54.869765Z",
     "iopub.status.busy": "2023-12-03T05:14:54.869260Z",
     "iopub.status.idle": "2023-12-03T05:15:38.909657Z",
     "shell.execute_reply": "2023-12-03T05:15:38.908447Z"
    },
    "papermill": {
     "duration": 44.049004,
     "end_time": "2023-12-03T05:15:38.912544",
     "exception": false,
     "start_time": "2023-12-03T05:14:54.863540",
     "status": "completed"
    },
    "tags": []
   },
   "outputs": [],
   "source": [
    "interactions = pd.read_csv('/kaggle/input/game-recommendations-on-steam/recommendations.csv')"
   ]
  },
  {
   "cell_type": "code",
   "execution_count": 3,
   "id": "0f402c77",
   "metadata": {
    "execution": {
     "iopub.execute_input": "2023-12-03T05:15:38.923826Z",
     "iopub.status.busy": "2023-12-03T05:15:38.923467Z",
     "iopub.status.idle": "2023-12-03T05:15:38.946396Z",
     "shell.execute_reply": "2023-12-03T05:15:38.945404Z"
    },
    "papermill": {
     "duration": 0.031239,
     "end_time": "2023-12-03T05:15:38.948836",
     "exception": false,
     "start_time": "2023-12-03T05:15:38.917597",
     "status": "completed"
    },
    "tags": []
   },
   "outputs": [
    {
     "data": {
      "text/html": [
       "<div>\n",
       "<style scoped>\n",
       "    .dataframe tbody tr th:only-of-type {\n",
       "        vertical-align: middle;\n",
       "    }\n",
       "\n",
       "    .dataframe tbody tr th {\n",
       "        vertical-align: top;\n",
       "    }\n",
       "\n",
       "    .dataframe thead th {\n",
       "        text-align: right;\n",
       "    }\n",
       "</style>\n",
       "<table border=\"1\" class=\"dataframe\">\n",
       "  <thead>\n",
       "    <tr style=\"text-align: right;\">\n",
       "      <th></th>\n",
       "      <th>app_id</th>\n",
       "      <th>helpful</th>\n",
       "      <th>funny</th>\n",
       "      <th>date</th>\n",
       "      <th>is_recommended</th>\n",
       "      <th>hours</th>\n",
       "      <th>user_id</th>\n",
       "      <th>review_id</th>\n",
       "    </tr>\n",
       "  </thead>\n",
       "  <tbody>\n",
       "    <tr>\n",
       "      <th>0</th>\n",
       "      <td>975370</td>\n",
       "      <td>0</td>\n",
       "      <td>0</td>\n",
       "      <td>2022-12-12</td>\n",
       "      <td>True</td>\n",
       "      <td>36.3</td>\n",
       "      <td>49625</td>\n",
       "      <td>0</td>\n",
       "    </tr>\n",
       "    <tr>\n",
       "      <th>1</th>\n",
       "      <td>304390</td>\n",
       "      <td>4</td>\n",
       "      <td>0</td>\n",
       "      <td>2017-02-17</td>\n",
       "      <td>False</td>\n",
       "      <td>11.5</td>\n",
       "      <td>2482</td>\n",
       "      <td>1</td>\n",
       "    </tr>\n",
       "    <tr>\n",
       "      <th>2</th>\n",
       "      <td>1085660</td>\n",
       "      <td>2</td>\n",
       "      <td>0</td>\n",
       "      <td>2019-11-17</td>\n",
       "      <td>True</td>\n",
       "      <td>336.5</td>\n",
       "      <td>243409</td>\n",
       "      <td>2</td>\n",
       "    </tr>\n",
       "    <tr>\n",
       "      <th>3</th>\n",
       "      <td>703080</td>\n",
       "      <td>0</td>\n",
       "      <td>0</td>\n",
       "      <td>2022-09-23</td>\n",
       "      <td>True</td>\n",
       "      <td>27.4</td>\n",
       "      <td>248701</td>\n",
       "      <td>3</td>\n",
       "    </tr>\n",
       "    <tr>\n",
       "      <th>4</th>\n",
       "      <td>526870</td>\n",
       "      <td>0</td>\n",
       "      <td>0</td>\n",
       "      <td>2021-01-10</td>\n",
       "      <td>True</td>\n",
       "      <td>7.9</td>\n",
       "      <td>22902</td>\n",
       "      <td>4</td>\n",
       "    </tr>\n",
       "  </tbody>\n",
       "</table>\n",
       "</div>"
      ],
      "text/plain": [
       "    app_id  helpful  funny        date  is_recommended  hours  user_id  \\\n",
       "0   975370        0      0  2022-12-12            True   36.3    49625   \n",
       "1   304390        4      0  2017-02-17           False   11.5     2482   \n",
       "2  1085660        2      0  2019-11-17            True  336.5   243409   \n",
       "3   703080        0      0  2022-09-23            True   27.4   248701   \n",
       "4   526870        0      0  2021-01-10            True    7.9    22902   \n",
       "\n",
       "   review_id  \n",
       "0          0  \n",
       "1          1  \n",
       "2          2  \n",
       "3          3  \n",
       "4          4  "
      ]
     },
     "execution_count": 3,
     "metadata": {},
     "output_type": "execute_result"
    }
   ],
   "source": [
    "interactions.head()"
   ]
  },
  {
   "cell_type": "code",
   "execution_count": 4,
   "id": "942f5fa9",
   "metadata": {
    "execution": {
     "iopub.execute_input": "2023-12-03T05:15:38.959582Z",
     "iopub.status.busy": "2023-12-03T05:15:38.959234Z",
     "iopub.status.idle": "2023-12-03T05:15:39.121264Z",
     "shell.execute_reply": "2023-12-03T05:15:39.120144Z"
    },
    "papermill": {
     "duration": 0.170221,
     "end_time": "2023-12-03T05:15:39.123719",
     "exception": false,
     "start_time": "2023-12-03T05:15:38.953498",
     "status": "completed"
    },
    "tags": []
   },
   "outputs": [],
   "source": [
    "games = pd.read_csv('/kaggle/input/game-recommendations-on-steam/games.csv', usecols = [0, 1])"
   ]
  },
  {
   "cell_type": "code",
   "execution_count": 5,
   "id": "4b9f52f8",
   "metadata": {
    "execution": {
     "iopub.execute_input": "2023-12-03T05:15:39.135991Z",
     "iopub.status.busy": "2023-12-03T05:15:39.135599Z",
     "iopub.status.idle": "2023-12-03T05:15:39.144781Z",
     "shell.execute_reply": "2023-12-03T05:15:39.144006Z"
    },
    "papermill": {
     "duration": 0.017292,
     "end_time": "2023-12-03T05:15:39.146652",
     "exception": false,
     "start_time": "2023-12-03T05:15:39.129360",
     "status": "completed"
    },
    "tags": []
   },
   "outputs": [],
   "source": [
    "games.rename(columns = {'app_id': 'gameID'}, inplace = True)"
   ]
  },
  {
   "cell_type": "code",
   "execution_count": 6,
   "id": "54ef8531",
   "metadata": {
    "execution": {
     "iopub.execute_input": "2023-12-03T05:15:39.158704Z",
     "iopub.status.busy": "2023-12-03T05:15:39.158109Z",
     "iopub.status.idle": "2023-12-03T05:15:39.197968Z",
     "shell.execute_reply": "2023-12-03T05:15:39.197164Z"
    },
    "papermill": {
     "duration": 0.04818,
     "end_time": "2023-12-03T05:15:39.200308",
     "exception": false,
     "start_time": "2023-12-03T05:15:39.152128",
     "status": "completed"
    },
    "tags": []
   },
   "outputs": [],
   "source": [
    "games[['gameID', 'title']] = games[['gameID', 'title']].astype('string')"
   ]
  },
  {
   "cell_type": "code",
   "execution_count": 7,
   "id": "2c97c4c7",
   "metadata": {
    "execution": {
     "iopub.execute_input": "2023-12-03T05:15:39.211966Z",
     "iopub.status.busy": "2023-12-03T05:15:39.211563Z",
     "iopub.status.idle": "2023-12-03T05:15:39.221062Z",
     "shell.execute_reply": "2023-12-03T05:15:39.220072Z"
    },
    "papermill": {
     "duration": 0.017935,
     "end_time": "2023-12-03T05:15:39.223218",
     "exception": false,
     "start_time": "2023-12-03T05:15:39.205283",
     "status": "completed"
    },
    "tags": []
   },
   "outputs": [
    {
     "data": {
      "text/html": [
       "<div>\n",
       "<style scoped>\n",
       "    .dataframe tbody tr th:only-of-type {\n",
       "        vertical-align: middle;\n",
       "    }\n",
       "\n",
       "    .dataframe tbody tr th {\n",
       "        vertical-align: top;\n",
       "    }\n",
       "\n",
       "    .dataframe thead th {\n",
       "        text-align: right;\n",
       "    }\n",
       "</style>\n",
       "<table border=\"1\" class=\"dataframe\">\n",
       "  <thead>\n",
       "    <tr style=\"text-align: right;\">\n",
       "      <th></th>\n",
       "      <th>gameID</th>\n",
       "      <th>title</th>\n",
       "    </tr>\n",
       "  </thead>\n",
       "  <tbody>\n",
       "    <tr>\n",
       "      <th>0</th>\n",
       "      <td>13500</td>\n",
       "      <td>Prince of Persia: Warrior Within™</td>\n",
       "    </tr>\n",
       "    <tr>\n",
       "      <th>1</th>\n",
       "      <td>22364</td>\n",
       "      <td>BRINK: Agents of Change</td>\n",
       "    </tr>\n",
       "    <tr>\n",
       "      <th>2</th>\n",
       "      <td>113020</td>\n",
       "      <td>Monaco: What's Yours Is Mine</td>\n",
       "    </tr>\n",
       "    <tr>\n",
       "      <th>3</th>\n",
       "      <td>226560</td>\n",
       "      <td>Escape Dead Island</td>\n",
       "    </tr>\n",
       "    <tr>\n",
       "      <th>4</th>\n",
       "      <td>249050</td>\n",
       "      <td>Dungeon of the ENDLESS™</td>\n",
       "    </tr>\n",
       "  </tbody>\n",
       "</table>\n",
       "</div>"
      ],
      "text/plain": [
       "   gameID                              title\n",
       "0   13500  Prince of Persia: Warrior Within™\n",
       "1   22364            BRINK: Agents of Change\n",
       "2  113020       Monaco: What's Yours Is Mine\n",
       "3  226560                 Escape Dead Island\n",
       "4  249050            Dungeon of the ENDLESS™"
      ]
     },
     "execution_count": 7,
     "metadata": {},
     "output_type": "execute_result"
    }
   ],
   "source": [
    "games.head()"
   ]
  },
  {
   "cell_type": "code",
   "execution_count": 8,
   "id": "5616909e",
   "metadata": {
    "execution": {
     "iopub.execute_input": "2023-12-03T05:15:39.234524Z",
     "iopub.status.busy": "2023-12-03T05:15:39.234154Z",
     "iopub.status.idle": "2023-12-03T05:16:21.402689Z",
     "shell.execute_reply": "2023-12-03T05:16:21.401432Z"
    },
    "papermill": {
     "duration": 42.177041,
     "end_time": "2023-12-03T05:16:21.405271",
     "exception": false,
     "start_time": "2023-12-03T05:15:39.228230",
     "status": "completed"
    },
    "tags": []
   },
   "outputs": [],
   "source": [
    "df1 = interactions[['user_id', 'app_id', 'is_recommended', 'hours', 'date']]\n",
    "df2 = df1.rename(columns = {'user_id': 'userID', 'app_id': 'gameID', 'is_recommended': 'recommended',\n",
    "                                                'hours': 'hours_played', 'date': 'review_date'})\n",
    "df2[['userID', 'gameID', 'review_date']] = df2[['userID', 'gameID', 'review_date']].astype('string')\n",
    "# df2['review_date'] = pd.to_datetime(df2['review_date'], format = '%Y-%m-%d')"
   ]
  },
  {
   "cell_type": "code",
   "execution_count": 9,
   "id": "b84aa5af",
   "metadata": {
    "execution": {
     "iopub.execute_input": "2023-12-03T05:16:21.417438Z",
     "iopub.status.busy": "2023-12-03T05:16:21.417039Z",
     "iopub.status.idle": "2023-12-03T05:16:40.441063Z",
     "shell.execute_reply": "2023-12-03T05:16:40.440219Z"
    },
    "papermill": {
     "duration": 19.033168,
     "end_time": "2023-12-03T05:16:40.443536",
     "exception": false,
     "start_time": "2023-12-03T05:16:21.410368",
     "status": "completed"
    },
    "tags": []
   },
   "outputs": [],
   "source": [
    "df3 = df2.groupby('recommended').sample(frac = 0.08, random_state = 123)"
   ]
  },
  {
   "cell_type": "code",
   "execution_count": 10,
   "id": "e185746c",
   "metadata": {
    "execution": {
     "iopub.execute_input": "2023-12-03T05:16:40.455730Z",
     "iopub.status.busy": "2023-12-03T05:16:40.455066Z",
     "iopub.status.idle": "2023-12-03T05:16:40.474526Z",
     "shell.execute_reply": "2023-12-03T05:16:40.473168Z"
    },
    "papermill": {
     "duration": 0.02831,
     "end_time": "2023-12-03T05:16:40.477031",
     "exception": false,
     "start_time": "2023-12-03T05:16:40.448721",
     "status": "completed"
    },
    "tags": []
   },
   "outputs": [
    {
     "name": "stdout",
     "output_type": "stream",
     "text": [
      "<class 'pandas.core.frame.DataFrame'>\n",
      "RangeIndex: 3068328 entries, 0 to 3068327\n",
      "Data columns (total 5 columns):\n",
      " #   Column        Dtype  \n",
      "---  ------        -----  \n",
      " 0   userID        string \n",
      " 1   gameID        string \n",
      " 2   recommended   bool   \n",
      " 3   hours_played  float64\n",
      " 4   review_date   string \n",
      "dtypes: bool(1), float64(1), string(3)\n",
      "memory usage: 96.6 MB\n"
     ]
    }
   ],
   "source": [
    "df3.reset_index(drop = True, inplace = True)\n",
    "df3.info()"
   ]
  },
  {
   "cell_type": "code",
   "execution_count": 11,
   "id": "22d6a20e",
   "metadata": {
    "execution": {
     "iopub.execute_input": "2023-12-03T05:16:40.489512Z",
     "iopub.status.busy": "2023-12-03T05:16:40.489100Z",
     "iopub.status.idle": "2023-12-03T05:16:40.495076Z",
     "shell.execute_reply": "2023-12-03T05:16:40.494299Z"
    },
    "papermill": {
     "duration": 0.014647,
     "end_time": "2023-12-03T05:16:40.496959",
     "exception": false,
     "start_time": "2023-12-03T05:16:40.482312",
     "status": "completed"
    },
    "tags": []
   },
   "outputs": [],
   "source": [
    "def reduce_sparsity(df, min_items_per_user, min_user_per_item, user_col, item_col):\n",
    "    good_users = df[user_col].value_counts()[df[user_col].value_counts() > min_items_per_user].index\n",
    "    df = df[df[user_col].isin(good_users)]\n",
    "\n",
    "    good_items = df[item_col].value_counts()[df[item_col].value_counts() > min_user_per_item].index\n",
    "    df = df[df[item_col].isin(good_items)].reset_index(drop=1)\n",
    "    return df"
   ]
  },
  {
   "cell_type": "code",
   "execution_count": 12,
   "id": "9d544ced",
   "metadata": {
    "execution": {
     "iopub.execute_input": "2023-12-03T05:16:40.508990Z",
     "iopub.status.busy": "2023-12-03T05:16:40.508597Z",
     "iopub.status.idle": "2023-12-03T05:16:53.718482Z",
     "shell.execute_reply": "2023-12-03T05:16:53.717318Z"
    },
    "papermill": {
     "duration": 13.218921,
     "end_time": "2023-12-03T05:16:53.721147",
     "exception": false,
     "start_time": "2023-12-03T05:16:40.502226",
     "status": "completed"
    },
    "tags": []
   },
   "outputs": [],
   "source": [
    "df4 = reduce_sparsity(df3, 5, 5, 'userID', 'gameID')"
   ]
  },
  {
   "cell_type": "code",
   "execution_count": 13,
   "id": "daeb86a8",
   "metadata": {
    "execution": {
     "iopub.execute_input": "2023-12-03T05:16:53.733164Z",
     "iopub.status.busy": "2023-12-03T05:16:53.732762Z",
     "iopub.status.idle": "2023-12-03T05:16:53.874929Z",
     "shell.execute_reply": "2023-12-03T05:16:53.873839Z"
    },
    "papermill": {
     "duration": 0.150883,
     "end_time": "2023-12-03T05:16:53.877257",
     "exception": false,
     "start_time": "2023-12-03T05:16:53.726374",
     "status": "completed"
    },
    "tags": []
   },
   "outputs": [
    {
     "name": "stdout",
     "output_type": "stream",
     "text": [
      "<class 'pandas.core.frame.DataFrame'>\n",
      "RangeIndex: 185503 entries, 0 to 185502\n",
      "Data columns (total 5 columns):\n",
      " #   Column        Non-Null Count   Dtype  \n",
      "---  ------        --------------   -----  \n",
      " 0   userID        185503 non-null  string \n",
      " 1   gameID        185503 non-null  string \n",
      " 2   recommended   185503 non-null  bool   \n",
      " 3   hours_played  185503 non-null  float64\n",
      " 4   review_date   185503 non-null  string \n",
      "dtypes: bool(1), float64(1), string(3)\n",
      "memory usage: 5.8 MB\n"
     ]
    }
   ],
   "source": [
    "df4.info()"
   ]
  },
  {
   "cell_type": "code",
   "execution_count": 14,
   "id": "89aedb52",
   "metadata": {
    "execution": {
     "iopub.execute_input": "2023-12-03T05:16:53.889086Z",
     "iopub.status.busy": "2023-12-03T05:16:53.888669Z",
     "iopub.status.idle": "2023-12-03T05:16:53.901804Z",
     "shell.execute_reply": "2023-12-03T05:16:53.900803Z"
    },
    "papermill": {
     "duration": 0.021373,
     "end_time": "2023-12-03T05:16:53.903759",
     "exception": false,
     "start_time": "2023-12-03T05:16:53.882386",
     "status": "completed"
    },
    "tags": []
   },
   "outputs": [
    {
     "data": {
      "text/html": [
       "<div>\n",
       "<style scoped>\n",
       "    .dataframe tbody tr th:only-of-type {\n",
       "        vertical-align: middle;\n",
       "    }\n",
       "\n",
       "    .dataframe tbody tr th {\n",
       "        vertical-align: top;\n",
       "    }\n",
       "\n",
       "    .dataframe thead th {\n",
       "        text-align: right;\n",
       "    }\n",
       "</style>\n",
       "<table border=\"1\" class=\"dataframe\">\n",
       "  <thead>\n",
       "    <tr style=\"text-align: right;\">\n",
       "      <th></th>\n",
       "      <th>userID</th>\n",
       "      <th>gameID</th>\n",
       "      <th>recommended</th>\n",
       "      <th>hours_played</th>\n",
       "      <th>review_date</th>\n",
       "    </tr>\n",
       "  </thead>\n",
       "  <tbody>\n",
       "    <tr>\n",
       "      <th>0</th>\n",
       "      <td>1393010</td>\n",
       "      <td>1238840</td>\n",
       "      <td>False</td>\n",
       "      <td>301.7</td>\n",
       "      <td>2021-10-15</td>\n",
       "    </tr>\n",
       "    <tr>\n",
       "      <th>1</th>\n",
       "      <td>11356686</td>\n",
       "      <td>485440</td>\n",
       "      <td>False</td>\n",
       "      <td>2.4</td>\n",
       "      <td>2018-11-19</td>\n",
       "    </tr>\n",
       "    <tr>\n",
       "      <th>2</th>\n",
       "      <td>7960921</td>\n",
       "      <td>326180</td>\n",
       "      <td>False</td>\n",
       "      <td>6.2</td>\n",
       "      <td>2020-06-24</td>\n",
       "    </tr>\n",
       "    <tr>\n",
       "      <th>3</th>\n",
       "      <td>11879917</td>\n",
       "      <td>298600</td>\n",
       "      <td>False</td>\n",
       "      <td>4.2</td>\n",
       "      <td>2020-07-11</td>\n",
       "    </tr>\n",
       "    <tr>\n",
       "      <th>4</th>\n",
       "      <td>10867748</td>\n",
       "      <td>251150</td>\n",
       "      <td>False</td>\n",
       "      <td>35.1</td>\n",
       "      <td>2022-12-30</td>\n",
       "    </tr>\n",
       "  </tbody>\n",
       "</table>\n",
       "</div>"
      ],
      "text/plain": [
       "     userID   gameID  recommended  hours_played review_date\n",
       "0   1393010  1238840        False         301.7  2021-10-15\n",
       "1  11356686   485440        False           2.4  2018-11-19\n",
       "2   7960921   326180        False           6.2  2020-06-24\n",
       "3  11879917   298600        False           4.2  2020-07-11\n",
       "4  10867748   251150        False          35.1  2022-12-30"
      ]
     },
     "execution_count": 14,
     "metadata": {},
     "output_type": "execute_result"
    }
   ],
   "source": [
    "df4.head()"
   ]
  },
  {
   "cell_type": "code",
   "execution_count": 15,
   "id": "307aed1c",
   "metadata": {
    "execution": {
     "iopub.execute_input": "2023-12-03T05:16:53.916276Z",
     "iopub.status.busy": "2023-12-03T05:16:53.915899Z",
     "iopub.status.idle": "2023-12-03T05:16:54.297226Z",
     "shell.execute_reply": "2023-12-03T05:16:54.296285Z"
    },
    "papermill": {
     "duration": 0.390426,
     "end_time": "2023-12-03T05:16:54.299660",
     "exception": false,
     "start_time": "2023-12-03T05:16:53.909234",
     "status": "completed"
    },
    "tags": []
   },
   "outputs": [],
   "source": [
    "dataset = df4.merge(games, how = 'left', on = 'gameID')"
   ]
  },
  {
   "cell_type": "code",
   "execution_count": 16,
   "id": "c739298b",
   "metadata": {
    "execution": {
     "iopub.execute_input": "2023-12-03T05:16:54.312529Z",
     "iopub.status.busy": "2023-12-03T05:16:54.311625Z",
     "iopub.status.idle": "2023-12-03T05:16:54.325436Z",
     "shell.execute_reply": "2023-12-03T05:16:54.324425Z"
    },
    "papermill": {
     "duration": 0.022294,
     "end_time": "2023-12-03T05:16:54.327473",
     "exception": false,
     "start_time": "2023-12-03T05:16:54.305179",
     "status": "completed"
    },
    "tags": []
   },
   "outputs": [
    {
     "data": {
      "text/html": [
       "<div>\n",
       "<style scoped>\n",
       "    .dataframe tbody tr th:only-of-type {\n",
       "        vertical-align: middle;\n",
       "    }\n",
       "\n",
       "    .dataframe tbody tr th {\n",
       "        vertical-align: top;\n",
       "    }\n",
       "\n",
       "    .dataframe thead th {\n",
       "        text-align: right;\n",
       "    }\n",
       "</style>\n",
       "<table border=\"1\" class=\"dataframe\">\n",
       "  <thead>\n",
       "    <tr style=\"text-align: right;\">\n",
       "      <th></th>\n",
       "      <th>userID</th>\n",
       "      <th>gameID</th>\n",
       "      <th>recommended</th>\n",
       "      <th>hours_played</th>\n",
       "      <th>review_date</th>\n",
       "      <th>title</th>\n",
       "    </tr>\n",
       "  </thead>\n",
       "  <tbody>\n",
       "    <tr>\n",
       "      <th>0</th>\n",
       "      <td>1393010</td>\n",
       "      <td>1238840</td>\n",
       "      <td>False</td>\n",
       "      <td>301.7</td>\n",
       "      <td>2021-10-15</td>\n",
       "      <td>Battlefield™ 1</td>\n",
       "    </tr>\n",
       "    <tr>\n",
       "      <th>1</th>\n",
       "      <td>11356686</td>\n",
       "      <td>485440</td>\n",
       "      <td>False</td>\n",
       "      <td>2.4</td>\n",
       "      <td>2018-11-19</td>\n",
       "      <td>Call Of The Mighty Warriors</td>\n",
       "    </tr>\n",
       "    <tr>\n",
       "      <th>2</th>\n",
       "      <td>7960921</td>\n",
       "      <td>326180</td>\n",
       "      <td>False</td>\n",
       "      <td>6.2</td>\n",
       "      <td>2020-06-24</td>\n",
       "      <td>Sinister City</td>\n",
       "    </tr>\n",
       "    <tr>\n",
       "      <th>3</th>\n",
       "      <td>11879917</td>\n",
       "      <td>298600</td>\n",
       "      <td>False</td>\n",
       "      <td>4.2</td>\n",
       "      <td>2020-07-11</td>\n",
       "      <td>Lovely Planet</td>\n",
       "    </tr>\n",
       "    <tr>\n",
       "      <th>4</th>\n",
       "      <td>10867748</td>\n",
       "      <td>251150</td>\n",
       "      <td>False</td>\n",
       "      <td>35.1</td>\n",
       "      <td>2022-12-30</td>\n",
       "      <td>The Legend of Heroes: Trails in the Sky</td>\n",
       "    </tr>\n",
       "  </tbody>\n",
       "</table>\n",
       "</div>"
      ],
      "text/plain": [
       "     userID   gameID  recommended  hours_played review_date  \\\n",
       "0   1393010  1238840        False         301.7  2021-10-15   \n",
       "1  11356686   485440        False           2.4  2018-11-19   \n",
       "2   7960921   326180        False           6.2  2020-06-24   \n",
       "3  11879917   298600        False           4.2  2020-07-11   \n",
       "4  10867748   251150        False          35.1  2022-12-30   \n",
       "\n",
       "                                     title  \n",
       "0                           Battlefield™ 1  \n",
       "1              Call Of The Mighty Warriors  \n",
       "2                            Sinister City  \n",
       "3                            Lovely Planet  \n",
       "4  The Legend of Heroes: Trails in the Sky  "
      ]
     },
     "execution_count": 16,
     "metadata": {},
     "output_type": "execute_result"
    }
   ],
   "source": [
    "dataset.head()"
   ]
  },
  {
   "cell_type": "code",
   "execution_count": 17,
   "id": "6222d93a",
   "metadata": {
    "execution": {
     "iopub.execute_input": "2023-12-03T05:16:54.340621Z",
     "iopub.status.busy": "2023-12-03T05:16:54.340225Z",
     "iopub.status.idle": "2023-12-03T05:16:57.284468Z",
     "shell.execute_reply": "2023-12-03T05:16:57.283062Z"
    },
    "papermill": {
     "duration": 2.953899,
     "end_time": "2023-12-03T05:16:57.287037",
     "exception": false,
     "start_time": "2023-12-03T05:16:54.333138",
     "status": "completed"
    },
    "tags": []
   },
   "outputs": [],
   "source": [
    "dataset.to_json('dataset.json.gz', orient = 'records', compression = 'gzip')"
   ]
  }
 ],
 "metadata": {
  "kaggle": {
   "accelerator": "none",
   "dataSources": [
    {
     "datasetId": 2871694,
     "sourceId": 6957743,
     "sourceType": "datasetVersion"
    }
   ],
   "dockerImageVersionId": 30587,
   "isGpuEnabled": false,
   "isInternetEnabled": false,
   "language": "python",
   "sourceType": "notebook"
  },
  "kernelspec": {
   "display_name": "Python 3",
   "language": "python",
   "name": "python3"
  },
  "language_info": {
   "codemirror_mode": {
    "name": "ipython",
    "version": 3
   },
   "file_extension": ".py",
   "mimetype": "text/x-python",
   "name": "python",
   "nbconvert_exporter": "python",
   "pygments_lexer": "ipython3",
   "version": "3.10.12"
  },
  "papermill": {
   "default_parameters": {},
   "duration": 129.577401,
   "end_time": "2023-12-03T05:16:59.912273",
   "environment_variables": {},
   "exception": null,
   "input_path": "__notebook__.ipynb",
   "output_path": "__notebook__.ipynb",
   "parameters": {},
   "start_time": "2023-12-03T05:14:50.334872",
   "version": "2.4.0"
  }
 },
 "nbformat": 4,
 "nbformat_minor": 5
}
